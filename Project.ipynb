{
 "cells": [
  {
   "cell_type": "markdown",
   "metadata": {},
   "source": [
    "## Project Question"
   ]
  },
  {
   "cell_type": "markdown",
   "metadata": {},
   "source": [
    "## How well can we predict 'makes' or 'misses' in the NBA without looking at who is actually shooting the ball?"
   ]
  },
  {
   "cell_type": "markdown",
   "metadata": {},
   "source": [
    "- How much do external factors matter when it comes to shooting?\n",
    "\n",
    "\n",
    "- External factors are everything outside of the 1 primary factor, the person shooting the ball\n",
    "\n",
    "\n",
    "- To me this seems like it would be the #1 factor in determining whether a shot is going to go in the basket or not.  For example, if you had to predict the # of 3 point makes out of 10 for both Shaq and Steph Curry.  Most people, even those who don't follow basketball, would know enough to have wildly different predictions for each guy.\n",
    "\n",
    "\n",
    "- This information could help with coaching of all players, whether they are a great shooter, average shooter, or historically poor shooter.  For example a coach could learn tell his players: \"No matter who you are here are 3 tips to getting better shooting results\":\n",
    "\n",
    "\n",
    "    - avoid taking shots when someone is guarding you closely\n",
    "    - the closer you are to the basket, the better chance the ball will go in\n",
    "    - don't wait until the shot or game clock is almost at 0 to shoot the ball"
   ]
  },
  {
   "cell_type": "markdown",
   "metadata": {},
   "source": [
    "## Import Libraries"
   ]
  },
  {
   "cell_type": "code",
   "execution_count": 1,
   "metadata": {},
   "outputs": [],
   "source": [
    "import pandas as pd\n",
    "import numpy as np\n",
    "import matplotlib.pyplot as plt\n",
    "from sklearn.linear_model import LogisticRegression\n",
    "from sklearn.model_selection import train_test_split\n",
    "from sklearn.metrics import roc_curve, auc, confusion_matrix\n",
    "from sklearn.model_selection import GridSearchCV\n",
    "from sklearn.pipeline import Pipeline\n",
    "from sklearn.preprocessing import StandardScaler, MinMaxScaler\n",
    "from sklearn.decomposition import PCA\n",
    "from xgboost import XGBClassifier\n",
    "from xgboost import plot_importance\n",
    "from sklearn.ensemble import BaggingClassifier, RandomForestClassifier, AdaBoostClassifier, GradientBoostingClassifier\n",
    "from sklearn.metrics import precision_score, recall_score, accuracy_score, f1_score\n",
    "from sklearn.neighbors import KNeighborsClassifier\n",
    "from sklearn.tree import DecisionTreeClassifier \n",
    "from sklearn.svm import SVC\n",
    "import warnings\n",
    "warnings.filterwarnings('ignore')"
   ]
  },
  {
   "cell_type": "markdown",
   "metadata": {},
   "source": [
    "## Import Data"
   ]
  },
  {
   "cell_type": "code",
   "execution_count": 2,
   "metadata": {
    "scrolled": false
   },
   "outputs": [
    {
     "data": {
      "text/html": [
       "<div>\n",
       "<style scoped>\n",
       "    .dataframe tbody tr th:only-of-type {\n",
       "        vertical-align: middle;\n",
       "    }\n",
       "\n",
       "    .dataframe tbody tr th {\n",
       "        vertical-align: top;\n",
       "    }\n",
       "\n",
       "    .dataframe thead th {\n",
       "        text-align: right;\n",
       "    }\n",
       "</style>\n",
       "<table border=\"1\" class=\"dataframe\">\n",
       "  <thead>\n",
       "    <tr style=\"text-align: right;\">\n",
       "      <th></th>\n",
       "      <th>GAME_ID</th>\n",
       "      <th>MATCHUP</th>\n",
       "      <th>LOCATION</th>\n",
       "      <th>W</th>\n",
       "      <th>FINAL_MARGIN</th>\n",
       "      <th>SHOT_NUMBER</th>\n",
       "      <th>PERIOD</th>\n",
       "      <th>GAME_CLOCK</th>\n",
       "      <th>SHOT_CLOCK</th>\n",
       "      <th>DRIBBLES</th>\n",
       "      <th>...</th>\n",
       "      <th>SHOT_DIST</th>\n",
       "      <th>PTS_TYPE</th>\n",
       "      <th>SHOT_RESULT</th>\n",
       "      <th>CLOSEST_DEFENDER</th>\n",
       "      <th>CLOSEST_DEFENDER_PLAYER_ID</th>\n",
       "      <th>CLOSE_DEF_DIST</th>\n",
       "      <th>FGM</th>\n",
       "      <th>PTS</th>\n",
       "      <th>player_name</th>\n",
       "      <th>player_id</th>\n",
       "    </tr>\n",
       "  </thead>\n",
       "  <tbody>\n",
       "    <tr>\n",
       "      <td>0</td>\n",
       "      <td>21400899</td>\n",
       "      <td>MAR 04, 2015 - CHA @ BKN</td>\n",
       "      <td>A</td>\n",
       "      <td>W</td>\n",
       "      <td>24</td>\n",
       "      <td>1</td>\n",
       "      <td>1</td>\n",
       "      <td>1:09</td>\n",
       "      <td>10.8</td>\n",
       "      <td>2</td>\n",
       "      <td>...</td>\n",
       "      <td>7.7</td>\n",
       "      <td>2</td>\n",
       "      <td>made</td>\n",
       "      <td>Anderson, Alan</td>\n",
       "      <td>101187</td>\n",
       "      <td>1.3</td>\n",
       "      <td>1</td>\n",
       "      <td>2</td>\n",
       "      <td>brian roberts</td>\n",
       "      <td>203148</td>\n",
       "    </tr>\n",
       "    <tr>\n",
       "      <td>1</td>\n",
       "      <td>21400899</td>\n",
       "      <td>MAR 04, 2015 - CHA @ BKN</td>\n",
       "      <td>A</td>\n",
       "      <td>W</td>\n",
       "      <td>24</td>\n",
       "      <td>2</td>\n",
       "      <td>1</td>\n",
       "      <td>0:14</td>\n",
       "      <td>3.4</td>\n",
       "      <td>0</td>\n",
       "      <td>...</td>\n",
       "      <td>28.2</td>\n",
       "      <td>3</td>\n",
       "      <td>missed</td>\n",
       "      <td>Bogdanovic, Bojan</td>\n",
       "      <td>202711</td>\n",
       "      <td>6.1</td>\n",
       "      <td>0</td>\n",
       "      <td>0</td>\n",
       "      <td>brian roberts</td>\n",
       "      <td>203148</td>\n",
       "    </tr>\n",
       "    <tr>\n",
       "      <td>2</td>\n",
       "      <td>21400899</td>\n",
       "      <td>MAR 04, 2015 - CHA @ BKN</td>\n",
       "      <td>A</td>\n",
       "      <td>W</td>\n",
       "      <td>24</td>\n",
       "      <td>3</td>\n",
       "      <td>1</td>\n",
       "      <td>0:00</td>\n",
       "      <td>NaN</td>\n",
       "      <td>3</td>\n",
       "      <td>...</td>\n",
       "      <td>10.1</td>\n",
       "      <td>2</td>\n",
       "      <td>missed</td>\n",
       "      <td>Bogdanovic, Bojan</td>\n",
       "      <td>202711</td>\n",
       "      <td>0.9</td>\n",
       "      <td>0</td>\n",
       "      <td>0</td>\n",
       "      <td>brian roberts</td>\n",
       "      <td>203148</td>\n",
       "    </tr>\n",
       "    <tr>\n",
       "      <td>3</td>\n",
       "      <td>21400899</td>\n",
       "      <td>MAR 04, 2015 - CHA @ BKN</td>\n",
       "      <td>A</td>\n",
       "      <td>W</td>\n",
       "      <td>24</td>\n",
       "      <td>4</td>\n",
       "      <td>2</td>\n",
       "      <td>11:47</td>\n",
       "      <td>10.3</td>\n",
       "      <td>2</td>\n",
       "      <td>...</td>\n",
       "      <td>17.2</td>\n",
       "      <td>2</td>\n",
       "      <td>missed</td>\n",
       "      <td>Brown, Markel</td>\n",
       "      <td>203900</td>\n",
       "      <td>3.4</td>\n",
       "      <td>0</td>\n",
       "      <td>0</td>\n",
       "      <td>brian roberts</td>\n",
       "      <td>203148</td>\n",
       "    </tr>\n",
       "    <tr>\n",
       "      <td>4</td>\n",
       "      <td>21400899</td>\n",
       "      <td>MAR 04, 2015 - CHA @ BKN</td>\n",
       "      <td>A</td>\n",
       "      <td>W</td>\n",
       "      <td>24</td>\n",
       "      <td>5</td>\n",
       "      <td>2</td>\n",
       "      <td>10:34</td>\n",
       "      <td>10.9</td>\n",
       "      <td>2</td>\n",
       "      <td>...</td>\n",
       "      <td>3.7</td>\n",
       "      <td>2</td>\n",
       "      <td>missed</td>\n",
       "      <td>Young, Thaddeus</td>\n",
       "      <td>201152</td>\n",
       "      <td>1.1</td>\n",
       "      <td>0</td>\n",
       "      <td>0</td>\n",
       "      <td>brian roberts</td>\n",
       "      <td>203148</td>\n",
       "    </tr>\n",
       "  </tbody>\n",
       "</table>\n",
       "<p>5 rows × 21 columns</p>\n",
       "</div>"
      ],
      "text/plain": [
       "    GAME_ID                   MATCHUP LOCATION  W  FINAL_MARGIN  SHOT_NUMBER  \\\n",
       "0  21400899  MAR 04, 2015 - CHA @ BKN        A  W            24            1   \n",
       "1  21400899  MAR 04, 2015 - CHA @ BKN        A  W            24            2   \n",
       "2  21400899  MAR 04, 2015 - CHA @ BKN        A  W            24            3   \n",
       "3  21400899  MAR 04, 2015 - CHA @ BKN        A  W            24            4   \n",
       "4  21400899  MAR 04, 2015 - CHA @ BKN        A  W            24            5   \n",
       "\n",
       "   PERIOD GAME_CLOCK  SHOT_CLOCK  DRIBBLES  ...  SHOT_DIST  PTS_TYPE  \\\n",
       "0       1       1:09        10.8         2  ...        7.7         2   \n",
       "1       1       0:14         3.4         0  ...       28.2         3   \n",
       "2       1       0:00         NaN         3  ...       10.1         2   \n",
       "3       2      11:47        10.3         2  ...       17.2         2   \n",
       "4       2      10:34        10.9         2  ...        3.7         2   \n",
       "\n",
       "   SHOT_RESULT   CLOSEST_DEFENDER CLOSEST_DEFENDER_PLAYER_ID  CLOSE_DEF_DIST  \\\n",
       "0         made     Anderson, Alan                     101187             1.3   \n",
       "1       missed  Bogdanovic, Bojan                     202711             6.1   \n",
       "2       missed  Bogdanovic, Bojan                     202711             0.9   \n",
       "3       missed      Brown, Markel                     203900             3.4   \n",
       "4       missed    Young, Thaddeus                     201152             1.1   \n",
       "\n",
       "   FGM  PTS    player_name player_id  \n",
       "0    1    2  brian roberts    203148  \n",
       "1    0    0  brian roberts    203148  \n",
       "2    0    0  brian roberts    203148  \n",
       "3    0    0  brian roberts    203148  \n",
       "4    0    0  brian roberts    203148  \n",
       "\n",
       "[5 rows x 21 columns]"
      ]
     },
     "execution_count": 2,
     "metadata": {},
     "output_type": "execute_result"
    }
   ],
   "source": [
    "df = pd.read_csv('shot_logs.csv')\n",
    "df.head()"
   ]
  },
  {
   "cell_type": "markdown",
   "metadata": {},
   "source": [
    "- Everything looks to have loaded in correctly"
   ]
  },
  {
   "cell_type": "markdown",
   "metadata": {},
   "source": [
    "## Preprocessing/Exploration"
   ]
  },
  {
   "cell_type": "markdown",
   "metadata": {},
   "source": [
    "- Any null values?"
   ]
  },
  {
   "cell_type": "code",
   "execution_count": 3,
   "metadata": {},
   "outputs": [
    {
     "name": "stdout",
     "output_type": "stream",
     "text": [
      "<class 'pandas.core.frame.DataFrame'>\n",
      "RangeIndex: 128069 entries, 0 to 128068\n",
      "Data columns (total 21 columns):\n",
      "GAME_ID                       128069 non-null int64\n",
      "MATCHUP                       128069 non-null object\n",
      "LOCATION                      128069 non-null object\n",
      "W                             128069 non-null object\n",
      "FINAL_MARGIN                  128069 non-null int64\n",
      "SHOT_NUMBER                   128069 non-null int64\n",
      "PERIOD                        128069 non-null int64\n",
      "GAME_CLOCK                    128069 non-null object\n",
      "SHOT_CLOCK                    122502 non-null float64\n",
      "DRIBBLES                      128069 non-null int64\n",
      "TOUCH_TIME                    128069 non-null float64\n",
      "SHOT_DIST                     128069 non-null float64\n",
      "PTS_TYPE                      128069 non-null int64\n",
      "SHOT_RESULT                   128069 non-null object\n",
      "CLOSEST_DEFENDER              128069 non-null object\n",
      "CLOSEST_DEFENDER_PLAYER_ID    128069 non-null int64\n",
      "CLOSE_DEF_DIST                128069 non-null float64\n",
      "FGM                           128069 non-null int64\n",
      "PTS                           128069 non-null int64\n",
      "player_name                   128069 non-null object\n",
      "player_id                     128069 non-null int64\n",
      "dtypes: float64(4), int64(10), object(7)\n",
      "memory usage: 20.5+ MB\n"
     ]
    }
   ],
   "source": [
    "df.info()"
   ]
  },
  {
   "cell_type": "markdown",
   "metadata": {},
   "source": [
    "- Yes, SHOT_CLOCK has a few thousand null values\n",
    "\n",
    "\n",
    "- Because we have over 125,000 data points I will just drop these rows with the null values\n",
    "\n",
    "\n",
    "- SHOT_CLOCK turned out to be one of the most predictive features so I didn't want to have to input inaccurate values for the sake of full data"
   ]
  },
  {
   "cell_type": "code",
   "execution_count": 4,
   "metadata": {},
   "outputs": [],
   "source": [
    "df = df.dropna()\n",
    "df.reset_index(drop=True, inplace=True) "
   ]
  },
  {
   "cell_type": "markdown",
   "metadata": {},
   "source": [
    "- Am I going to use every feature from this dataset to make my model?\n",
    "\n",
    "\n",
    "- We only need features that we think have to do with each shot going in or not"
   ]
  },
  {
   "cell_type": "code",
   "execution_count": 5,
   "metadata": {},
   "outputs": [],
   "source": [
    "feature_columns = ['LOCATION', 'SHOT_NUMBER', 'PERIOD', \"GAME_CLOCK\", \"SHOT_CLOCK\",\n",
    "           'DRIBBLES', 'TOUCH_TIME', \"SHOT_DIST\", 'PTS_TYPE', 'CLOSE_DEF_DIST']"
   ]
  },
  {
   "cell_type": "markdown",
   "metadata": {},
   "source": [
    "- These are the features I've chosen to keep, a few did not make the cut\n",
    "\n",
    "\n",
    "- Now let's make a separate dataframe for just our features"
   ]
  },
  {
   "cell_type": "code",
   "execution_count": 6,
   "metadata": {},
   "outputs": [],
   "source": [
    "features = df[feature_columns]"
   ]
  },
  {
   "cell_type": "markdown",
   "metadata": {},
   "source": [
    "- Now we will do the same for our target\n",
    "\n",
    "\n",
    "- Our target variable is a binary variable labeling whether each shot was made or missed"
   ]
  },
  {
   "cell_type": "code",
   "execution_count": 7,
   "metadata": {},
   "outputs": [],
   "source": [
    "target_column = ['FGM']\n",
    "target = (df[target_column]).squeeze()"
   ]
  },
  {
   "cell_type": "markdown",
   "metadata": {},
   "source": [
    "- Are the datatypes of each variable correct?"
   ]
  },
  {
   "cell_type": "code",
   "execution_count": 8,
   "metadata": {},
   "outputs": [
    {
     "name": "stdout",
     "output_type": "stream",
     "text": [
      "<class 'pandas.core.frame.DataFrame'>\n",
      "RangeIndex: 122502 entries, 0 to 122501\n",
      "Data columns (total 10 columns):\n",
      "LOCATION          122502 non-null object\n",
      "SHOT_NUMBER       122502 non-null int64\n",
      "PERIOD            122502 non-null int64\n",
      "GAME_CLOCK        122502 non-null object\n",
      "SHOT_CLOCK        122502 non-null float64\n",
      "DRIBBLES          122502 non-null int64\n",
      "TOUCH_TIME        122502 non-null float64\n",
      "SHOT_DIST         122502 non-null float64\n",
      "PTS_TYPE          122502 non-null int64\n",
      "CLOSE_DEF_DIST    122502 non-null float64\n",
      "dtypes: float64(4), int64(4), object(2)\n",
      "memory usage: 9.3+ MB\n"
     ]
    }
   ],
   "source": [
    "features.info()"
   ]
  },
  {
   "cell_type": "markdown",
   "metadata": {},
   "source": [
    "- GAME_CLOCK is a string while SHOT_CLOCK is a float\n",
    "\n",
    "\n",
    "- I think if we change GAME_CLOCK to a float variable as well, it can be used for your model\n",
    "\n",
    "\n",
    "- In order to do that, the colon needs to be replaced with a period within each value.  Then the entire column can then be cast to a float type"
   ]
  },
  {
   "cell_type": "code",
   "execution_count": 9,
   "metadata": {
    "scrolled": true
   },
   "outputs": [],
   "source": [
    "features.GAME_CLOCK = features.GAME_CLOCK.apply(lambda x: x.replace(':', '.'))\n",
    "features.GAME_CLOCK = features.GAME_CLOCK.astype(float)"
   ]
  },
  {
   "cell_type": "markdown",
   "metadata": {},
   "source": [
    "- PTS_TYPE and PERIOD are both of INT type but I think these will be of more value as Categorical columns\n",
    "\n",
    "\n",
    "- So their datatypes should be changed from INT to String\n",
    "\n",
    "\n",
    "- Before that though, I noticed something unexpected in the list of values for PERIOD"
   ]
  },
  {
   "cell_type": "code",
   "execution_count": 10,
   "metadata": {},
   "outputs": [
    {
     "data": {
      "text/plain": [
       "1    32383\n",
       "3    31032\n",
       "2    30148\n",
       "4    27941\n",
       "5      809\n",
       "6      149\n",
       "7       40\n",
       "Name: PERIOD, dtype: int64"
      ]
     },
     "execution_count": 10,
     "metadata": {},
     "output_type": "execute_result"
    }
   ],
   "source": [
    "features.PERIOD.value_counts()"
   ]
  },
  {
   "cell_type": "markdown",
   "metadata": {},
   "source": [
    "- Besides the expected 1-4 values (as basketball is played in 4 quarter time periods) there are values of 5,6 and 7\n",
    "\n",
    "\n",
    "- I would like to keep the data to just the normal 4 quarters so I will combine all the 5,6,7 values with the 4 values because the 4th period is very similar in feel to any overtime period"
   ]
  },
  {
   "cell_type": "code",
   "execution_count": 11,
   "metadata": {},
   "outputs": [],
   "source": [
    "features.loc[features.PERIOD>4, 'PERIOD'] = 4"
   ]
  },
  {
   "cell_type": "markdown",
   "metadata": {},
   "source": [
    "- Now we can change PTS_TYPE and PERIOD to be String variables to fit their Categorical nature\n",
    "\n",
    "\n",
    "- Location is a categorical variable as well but it is already in the correct format so no need to change it"
   ]
  },
  {
   "cell_type": "code",
   "execution_count": 12,
   "metadata": {},
   "outputs": [],
   "source": [
    "features.PERIOD = features.PERIOD.apply(lambda x: str(x))\n",
    "features.PTS_TYPE = features.PTS_TYPE.apply(lambda x: str(x))"
   ]
  },
  {
   "cell_type": "markdown",
   "metadata": {},
   "source": [
    "- Now is the time to convert our categorical variables into dummy variables using Pandas getdummies()\n",
    "\n",
    "\n",
    "- Inspect"
   ]
  },
  {
   "cell_type": "code",
   "execution_count": 13,
   "metadata": {},
   "outputs": [
    {
     "data": {
      "text/html": [
       "<div>\n",
       "<style scoped>\n",
       "    .dataframe tbody tr th:only-of-type {\n",
       "        vertical-align: middle;\n",
       "    }\n",
       "\n",
       "    .dataframe tbody tr th {\n",
       "        vertical-align: top;\n",
       "    }\n",
       "\n",
       "    .dataframe thead th {\n",
       "        text-align: right;\n",
       "    }\n",
       "</style>\n",
       "<table border=\"1\" class=\"dataframe\">\n",
       "  <thead>\n",
       "    <tr style=\"text-align: right;\">\n",
       "      <th></th>\n",
       "      <th>SHOT_NUMBER</th>\n",
       "      <th>GAME_CLOCK</th>\n",
       "      <th>SHOT_CLOCK</th>\n",
       "      <th>DRIBBLES</th>\n",
       "      <th>TOUCH_TIME</th>\n",
       "      <th>SHOT_DIST</th>\n",
       "      <th>CLOSE_DEF_DIST</th>\n",
       "      <th>LOCATION_A</th>\n",
       "      <th>LOCATION_H</th>\n",
       "      <th>PERIOD_1</th>\n",
       "      <th>PERIOD_2</th>\n",
       "      <th>PERIOD_3</th>\n",
       "      <th>PERIOD_4</th>\n",
       "      <th>PTS_TYPE_2</th>\n",
       "      <th>PTS_TYPE_3</th>\n",
       "    </tr>\n",
       "  </thead>\n",
       "  <tbody>\n",
       "    <tr>\n",
       "      <td>0</td>\n",
       "      <td>1</td>\n",
       "      <td>1.09</td>\n",
       "      <td>10.8</td>\n",
       "      <td>2</td>\n",
       "      <td>1.9</td>\n",
       "      <td>7.7</td>\n",
       "      <td>1.3</td>\n",
       "      <td>1</td>\n",
       "      <td>0</td>\n",
       "      <td>1</td>\n",
       "      <td>0</td>\n",
       "      <td>0</td>\n",
       "      <td>0</td>\n",
       "      <td>1</td>\n",
       "      <td>0</td>\n",
       "    </tr>\n",
       "    <tr>\n",
       "      <td>1</td>\n",
       "      <td>2</td>\n",
       "      <td>0.14</td>\n",
       "      <td>3.4</td>\n",
       "      <td>0</td>\n",
       "      <td>0.8</td>\n",
       "      <td>28.2</td>\n",
       "      <td>6.1</td>\n",
       "      <td>1</td>\n",
       "      <td>0</td>\n",
       "      <td>1</td>\n",
       "      <td>0</td>\n",
       "      <td>0</td>\n",
       "      <td>0</td>\n",
       "      <td>0</td>\n",
       "      <td>1</td>\n",
       "    </tr>\n",
       "    <tr>\n",
       "      <td>2</td>\n",
       "      <td>4</td>\n",
       "      <td>11.47</td>\n",
       "      <td>10.3</td>\n",
       "      <td>2</td>\n",
       "      <td>1.9</td>\n",
       "      <td>17.2</td>\n",
       "      <td>3.4</td>\n",
       "      <td>1</td>\n",
       "      <td>0</td>\n",
       "      <td>0</td>\n",
       "      <td>1</td>\n",
       "      <td>0</td>\n",
       "      <td>0</td>\n",
       "      <td>1</td>\n",
       "      <td>0</td>\n",
       "    </tr>\n",
       "    <tr>\n",
       "      <td>3</td>\n",
       "      <td>5</td>\n",
       "      <td>10.34</td>\n",
       "      <td>10.9</td>\n",
       "      <td>2</td>\n",
       "      <td>2.7</td>\n",
       "      <td>3.7</td>\n",
       "      <td>1.1</td>\n",
       "      <td>1</td>\n",
       "      <td>0</td>\n",
       "      <td>0</td>\n",
       "      <td>1</td>\n",
       "      <td>0</td>\n",
       "      <td>0</td>\n",
       "      <td>1</td>\n",
       "      <td>0</td>\n",
       "    </tr>\n",
       "    <tr>\n",
       "      <td>4</td>\n",
       "      <td>6</td>\n",
       "      <td>8.15</td>\n",
       "      <td>9.1</td>\n",
       "      <td>2</td>\n",
       "      <td>4.4</td>\n",
       "      <td>18.4</td>\n",
       "      <td>2.6</td>\n",
       "      <td>1</td>\n",
       "      <td>0</td>\n",
       "      <td>0</td>\n",
       "      <td>1</td>\n",
       "      <td>0</td>\n",
       "      <td>0</td>\n",
       "      <td>1</td>\n",
       "      <td>0</td>\n",
       "    </tr>\n",
       "    <tr>\n",
       "      <td>...</td>\n",
       "      <td>...</td>\n",
       "      <td>...</td>\n",
       "      <td>...</td>\n",
       "      <td>...</td>\n",
       "      <td>...</td>\n",
       "      <td>...</td>\n",
       "      <td>...</td>\n",
       "      <td>...</td>\n",
       "      <td>...</td>\n",
       "      <td>...</td>\n",
       "      <td>...</td>\n",
       "      <td>...</td>\n",
       "      <td>...</td>\n",
       "      <td>...</td>\n",
       "      <td>...</td>\n",
       "    </tr>\n",
       "    <tr>\n",
       "      <td>122497</td>\n",
       "      <td>4</td>\n",
       "      <td>5.05</td>\n",
       "      <td>15.3</td>\n",
       "      <td>2</td>\n",
       "      <td>1.6</td>\n",
       "      <td>8.9</td>\n",
       "      <td>5.7</td>\n",
       "      <td>1</td>\n",
       "      <td>0</td>\n",
       "      <td>0</td>\n",
       "      <td>1</td>\n",
       "      <td>0</td>\n",
       "      <td>0</td>\n",
       "      <td>1</td>\n",
       "      <td>0</td>\n",
       "    </tr>\n",
       "    <tr>\n",
       "      <td>122498</td>\n",
       "      <td>5</td>\n",
       "      <td>1.52</td>\n",
       "      <td>18.3</td>\n",
       "      <td>5</td>\n",
       "      <td>6.2</td>\n",
       "      <td>8.7</td>\n",
       "      <td>0.8</td>\n",
       "      <td>1</td>\n",
       "      <td>0</td>\n",
       "      <td>0</td>\n",
       "      <td>0</td>\n",
       "      <td>1</td>\n",
       "      <td>0</td>\n",
       "      <td>1</td>\n",
       "      <td>0</td>\n",
       "    </tr>\n",
       "    <tr>\n",
       "      <td>122499</td>\n",
       "      <td>6</td>\n",
       "      <td>11.28</td>\n",
       "      <td>19.8</td>\n",
       "      <td>4</td>\n",
       "      <td>5.2</td>\n",
       "      <td>0.6</td>\n",
       "      <td>0.6</td>\n",
       "      <td>1</td>\n",
       "      <td>0</td>\n",
       "      <td>0</td>\n",
       "      <td>0</td>\n",
       "      <td>0</td>\n",
       "      <td>1</td>\n",
       "      <td>1</td>\n",
       "      <td>0</td>\n",
       "    </tr>\n",
       "    <tr>\n",
       "      <td>122500</td>\n",
       "      <td>7</td>\n",
       "      <td>11.10</td>\n",
       "      <td>23.0</td>\n",
       "      <td>2</td>\n",
       "      <td>4.2</td>\n",
       "      <td>16.9</td>\n",
       "      <td>4.2</td>\n",
       "      <td>1</td>\n",
       "      <td>0</td>\n",
       "      <td>0</td>\n",
       "      <td>0</td>\n",
       "      <td>0</td>\n",
       "      <td>1</td>\n",
       "      <td>1</td>\n",
       "      <td>0</td>\n",
       "    </tr>\n",
       "    <tr>\n",
       "      <td>122501</td>\n",
       "      <td>8</td>\n",
       "      <td>2.37</td>\n",
       "      <td>9.1</td>\n",
       "      <td>4</td>\n",
       "      <td>4.5</td>\n",
       "      <td>18.3</td>\n",
       "      <td>3.0</td>\n",
       "      <td>1</td>\n",
       "      <td>0</td>\n",
       "      <td>0</td>\n",
       "      <td>0</td>\n",
       "      <td>0</td>\n",
       "      <td>1</td>\n",
       "      <td>1</td>\n",
       "      <td>0</td>\n",
       "    </tr>\n",
       "  </tbody>\n",
       "</table>\n",
       "<p>122502 rows × 15 columns</p>\n",
       "</div>"
      ],
      "text/plain": [
       "        SHOT_NUMBER  GAME_CLOCK  SHOT_CLOCK  DRIBBLES  TOUCH_TIME  SHOT_DIST  \\\n",
       "0                 1        1.09        10.8         2         1.9        7.7   \n",
       "1                 2        0.14         3.4         0         0.8       28.2   \n",
       "2                 4       11.47        10.3         2         1.9       17.2   \n",
       "3                 5       10.34        10.9         2         2.7        3.7   \n",
       "4                 6        8.15         9.1         2         4.4       18.4   \n",
       "...             ...         ...         ...       ...         ...        ...   \n",
       "122497            4        5.05        15.3         2         1.6        8.9   \n",
       "122498            5        1.52        18.3         5         6.2        8.7   \n",
       "122499            6       11.28        19.8         4         5.2        0.6   \n",
       "122500            7       11.10        23.0         2         4.2       16.9   \n",
       "122501            8        2.37         9.1         4         4.5       18.3   \n",
       "\n",
       "        CLOSE_DEF_DIST  LOCATION_A  LOCATION_H  PERIOD_1  PERIOD_2  PERIOD_3  \\\n",
       "0                  1.3           1           0         1         0         0   \n",
       "1                  6.1           1           0         1         0         0   \n",
       "2                  3.4           1           0         0         1         0   \n",
       "3                  1.1           1           0         0         1         0   \n",
       "4                  2.6           1           0         0         1         0   \n",
       "...                ...         ...         ...       ...       ...       ...   \n",
       "122497             5.7           1           0         0         1         0   \n",
       "122498             0.8           1           0         0         0         1   \n",
       "122499             0.6           1           0         0         0         0   \n",
       "122500             4.2           1           0         0         0         0   \n",
       "122501             3.0           1           0         0         0         0   \n",
       "\n",
       "        PERIOD_4  PTS_TYPE_2  PTS_TYPE_3  \n",
       "0              0           1           0  \n",
       "1              0           0           1  \n",
       "2              0           1           0  \n",
       "3              0           1           0  \n",
       "4              0           1           0  \n",
       "...          ...         ...         ...  \n",
       "122497         0           1           0  \n",
       "122498         0           1           0  \n",
       "122499         1           1           0  \n",
       "122500         1           1           0  \n",
       "122501         1           1           0  \n",
       "\n",
       "[122502 rows x 15 columns]"
      ]
     },
     "execution_count": 13,
     "metadata": {},
     "output_type": "execute_result"
    }
   ],
   "source": [
    "features = pd.get_dummies(features)\n",
    "features"
   ]
  },
  {
   "cell_type": "markdown",
   "metadata": {},
   "source": [
    "- A quick inspection of the transformed dataset shows no unexpected values were in the categorical columns.  Great\n",
    "\n",
    "\n",
    "- Now that the categorical variables are ready for modeling, let's take a last look at the values in the continuous variables to make sure there are not outliers or unexpected data\n",
    "\n",
    "\n",
    "- We will use a Box and Whisker plot of each continuous variable to show this"
   ]
  },
  {
   "cell_type": "code",
   "execution_count": 14,
   "metadata": {},
   "outputs": [
    {
     "data": {
      "image/png": "[encoded data removed]",
      "text/plain": [
       "<Figure size 1440x720 with 1 Axes>"
      ]
     },
     "metadata": {
      "needs_background": "light"
     },
     "output_type": "display_data"
    }
   ],
   "source": [
    "continuous = features[features.columns[:7]] #dataframe of just the continuous features\n",
    "\n",
    "# Create a Box Whisker Plot of each column\n",
    "plt.figure(figsize=(20, 10))\n",
    "plt.boxplot([continuous[col] for col in continuous.columns])\n",
    "plt.title(\"Box & Whisker Plot of Each Column in Dataset\")\n",
    "plt.xticks(range(1,len(continuous.columns.values)+1), continuous.columns.values)\n",
    "plt.show()"
   ]
  },
  {
   "cell_type": "markdown",
   "metadata": {},
   "source": [
    "- Everything looks within reason except there are some negative values for TOUCH_TIME.  That must be a mistake as it is impossible to touch the ball for a negative amount of time\n",
    "\n",
    "\n",
    "- I think the best thing to do would just be to drop those faulty rows\n",
    "\n",
    "\n",
    "- We need to make sure to drop these rows from both the features and target dataframes since that data is now separate"
   ]
  },
  {
   "cell_type": "code",
   "execution_count": 15,
   "metadata": {},
   "outputs": [],
   "source": [
    "drops = features.loc[features.TOUCH_TIME<0, 'TOUCH_TIME'].index # get the index of the rows we will be dropping\n",
    "features.drop(drops, inplace=True)\n",
    "target.drop(drops, inplace=True)\n",
    "# reset the index just to reorder things after removing some rows\n",
    "features.reset_index(drop=True, inplace=True)\n",
    "target.reset_index(drop=True, inplace=True)"
   ]
  },
  {
   "cell_type": "markdown",
   "metadata": {},
   "source": [
    "- Let's explore the distribution of our target variable"
   ]
  },
  {
   "cell_type": "code",
   "execution_count": 16,
   "metadata": {},
   "outputs": [
    {
     "data": {
      "text/plain": [
       "0    0.543505\n",
       "1    0.456495\n",
       "Name: FGM, dtype: float64"
      ]
     },
     "execution_count": 16,
     "metadata": {},
     "output_type": "execute_result"
    }
   ],
   "source": [
    "target.value_counts(normalize=True)"
   ]
  },
  {
   "cell_type": "code",
   "execution_count": 17,
   "metadata": {},
   "outputs": [
    {
     "data": {
      "image/png": "[encoded data removed]",
      "text/plain": [
       "<Figure size 432x288 with 1 Axes>"
      ]
     },
     "metadata": {},
     "output_type": "display_data"
    }
   ],
   "source": [
    "#Make A Pie Chart\n",
    "\n",
    "plt.pie([54, 46], labels=['Miss', 'Make'], autopct='%1.1f%%', startangle=90, colors=['Maroon', 'Gray'],\n",
    "       textprops={'color':'black'})\n",
    "plt.title(\"Target Variable Distribution\")\n",
    "plt.show()"
   ]
  },
  {
   "cell_type": "markdown",
   "metadata": {},
   "source": [
    "- Classification algorithms are most reliable when binary target variables have an even distribution\n",
    "\n",
    "\n",
    "- Thankfully, ours isn't too far off.  About 46% of the data were makes and 54% were misses\n",
    "\n",
    "\n",
    "- I am going to hope that is close enough to 50/50 for our model results to be useful"
   ]
  },
  {
   "cell_type": "markdown",
   "metadata": {},
   "source": [
    "#### Multicollinearity?"
   ]
  },
  {
   "cell_type": "code",
   "execution_count": 18,
   "metadata": {
    "scrolled": false
   },
   "outputs": [
    {
     "data": {
      "text/html": [
       "<div>\n",
       "<style scoped>\n",
       "    .dataframe tbody tr th:only-of-type {\n",
       "        vertical-align: middle;\n",
       "    }\n",
       "\n",
       "    .dataframe tbody tr th {\n",
       "        vertical-align: top;\n",
       "    }\n",
       "\n",
       "    .dataframe thead th {\n",
       "        text-align: right;\n",
       "    }\n",
       "</style>\n",
       "<table border=\"1\" class=\"dataframe\">\n",
       "  <thead>\n",
       "    <tr style=\"text-align: right;\">\n",
       "      <th></th>\n",
       "      <th>SHOT_NUMBER</th>\n",
       "      <th>GAME_CLOCK</th>\n",
       "      <th>SHOT_CLOCK</th>\n",
       "      <th>DRIBBLES</th>\n",
       "      <th>TOUCH_TIME</th>\n",
       "      <th>SHOT_DIST</th>\n",
       "      <th>CLOSE_DEF_DIST</th>\n",
       "    </tr>\n",
       "  </thead>\n",
       "  <tbody>\n",
       "    <tr>\n",
       "      <td>SHOT_NUMBER</td>\n",
       "      <td>1.000000</td>\n",
       "      <td>-0.232661</td>\n",
       "      <td>-0.032683</td>\n",
       "      <td>0.144983</td>\n",
       "      <td>0.150743</td>\n",
       "      <td>0.005547</td>\n",
       "      <td>-0.037538</td>\n",
       "    </tr>\n",
       "    <tr>\n",
       "      <td>GAME_CLOCK</td>\n",
       "      <td>-0.232661</td>\n",
       "      <td>1.000000</td>\n",
       "      <td>0.020488</td>\n",
       "      <td>-0.104613</td>\n",
       "      <td>-0.097666</td>\n",
       "      <td>0.001592</td>\n",
       "      <td>0.008855</td>\n",
       "    </tr>\n",
       "    <tr>\n",
       "      <td>SHOT_CLOCK</td>\n",
       "      <td>-0.032683</td>\n",
       "      <td>0.020488</td>\n",
       "      <td>1.000000</td>\n",
       "      <td>-0.082771</td>\n",
       "      <td>-0.147688</td>\n",
       "      <td>-0.173026</td>\n",
       "      <td>0.026558</td>\n",
       "    </tr>\n",
       "    <tr>\n",
       "      <td>DRIBBLES</td>\n",
       "      <td>0.144983</td>\n",
       "      <td>-0.104613</td>\n",
       "      <td>-0.082771</td>\n",
       "      <td>1.000000</td>\n",
       "      <td>0.922755</td>\n",
       "      <td>-0.088753</td>\n",
       "      <td>-0.155250</td>\n",
       "    </tr>\n",
       "    <tr>\n",
       "      <td>TOUCH_TIME</td>\n",
       "      <td>0.150743</td>\n",
       "      <td>-0.097666</td>\n",
       "      <td>-0.147688</td>\n",
       "      <td>0.922755</td>\n",
       "      <td>1.000000</td>\n",
       "      <td>-0.089196</td>\n",
       "      <td>-0.167290</td>\n",
       "    </tr>\n",
       "    <tr>\n",
       "      <td>SHOT_DIST</td>\n",
       "      <td>0.005547</td>\n",
       "      <td>0.001592</td>\n",
       "      <td>-0.173026</td>\n",
       "      <td>-0.088753</td>\n",
       "      <td>-0.089196</td>\n",
       "      <td>1.000000</td>\n",
       "      <td>0.532083</td>\n",
       "    </tr>\n",
       "    <tr>\n",
       "      <td>CLOSE_DEF_DIST</td>\n",
       "      <td>-0.037538</td>\n",
       "      <td>0.008855</td>\n",
       "      <td>0.026558</td>\n",
       "      <td>-0.155250</td>\n",
       "      <td>-0.167290</td>\n",
       "      <td>0.532083</td>\n",
       "      <td>1.000000</td>\n",
       "    </tr>\n",
       "  </tbody>\n",
       "</table>\n",
       "</div>"
      ],
      "text/plain": [
       "                SHOT_NUMBER  GAME_CLOCK  SHOT_CLOCK  DRIBBLES  TOUCH_TIME  \\\n",
       "SHOT_NUMBER        1.000000   -0.232661   -0.032683  0.144983    0.150743   \n",
       "GAME_CLOCK        -0.232661    1.000000    0.020488 -0.104613   -0.097666   \n",
       "SHOT_CLOCK        -0.032683    0.020488    1.000000 -0.082771   -0.147688   \n",
       "DRIBBLES           0.144983   -0.104613   -0.082771  1.000000    0.922755   \n",
       "TOUCH_TIME         0.150743   -0.097666   -0.147688  0.922755    1.000000   \n",
       "SHOT_DIST          0.005547    0.001592   -0.173026 -0.088753   -0.089196   \n",
       "CLOSE_DEF_DIST    -0.037538    0.008855    0.026558 -0.155250   -0.167290   \n",
       "\n",
       "                SHOT_DIST  CLOSE_DEF_DIST  \n",
       "SHOT_NUMBER      0.005547       -0.037538  \n",
       "GAME_CLOCK       0.001592        0.008855  \n",
       "SHOT_CLOCK      -0.173026        0.026558  \n",
       "DRIBBLES        -0.088753       -0.155250  \n",
       "TOUCH_TIME      -0.089196       -0.167290  \n",
       "SHOT_DIST        1.000000        0.532083  \n",
       "CLOSE_DEF_DIST   0.532083        1.000000  "
      ]
     },
     "execution_count": 18,
     "metadata": {},
     "output_type": "execute_result"
    }
   ],
   "source": [
    "continuous.corr()"
   ]
  },
  {
   "cell_type": "markdown",
   "metadata": {},
   "source": [
    "- The only multicollinearity problem within our features is between TOUCH_TIME and DRIBBLES (with a .922 correlation!)\n",
    "\n",
    "\n",
    "- I think it would be smart to keep only one of these two variables for modeling (this will be taken care of in the next section)"
   ]
  },
  {
   "cell_type": "markdown",
   "metadata": {},
   "source": [
    "#### Train Test Split"
   ]
  },
  {
   "cell_type": "code",
   "execution_count": 19,
   "metadata": {},
   "outputs": [],
   "source": [
    "X_train, X_test, y_train, y_test = train_test_split(features,target, random_state=123)"
   ]
  },
  {
   "cell_type": "markdown",
   "metadata": {},
   "source": [
    "### Scaling down the Dataset / Reducing # of Features"
   ]
  },
  {
   "cell_type": "markdown",
   "metadata": {},
   "source": [
    "- Due to having well over 100,000 rows of data and 16 features, the modeling steps were taking too long.  I did not want to reduce the amount of rows in my dataset so I looked into reducing the number of features I would use\n",
    "\n",
    "\n",
    "- I examined the feature importance of a couple models I knew I would be testing with to find out that 6 of the features accounted for most of the variability in the target labels\n",
    "\n",
    "\n",
    "- So I decided to move forward with the modeling step using a dataframe of features with only the top 6\n",
    "\n",
    "\n",
    "- This made the runtime of the fitting of each model more manageable to the point where I was able to test more models"
   ]
  },
  {
   "cell_type": "code",
   "execution_count": 20,
   "metadata": {},
   "outputs": [],
   "source": [
    "# Here is a function to help with plotting the importance of each feature to a model's predictions\n",
    "\n",
    "def plot_feature_importances(model):\n",
    "    n_features = X_train.shape[1]\n",
    "    plt.figure(figsize=(8,8))\n",
    "    plt.barh(range(n_features), model.feature_importances_, align='center') \n",
    "    plt.yticks(np.arange(n_features), X_train.columns.values) \n",
    "    plt.xlabel(\"Feature importance\")\n",
    "    plt.ylabel(\"Feature\")"
   ]
  },
  {
   "cell_type": "code",
   "execution_count": 21,
   "metadata": {},
   "outputs": [
    {
     "data": {
      "image/png": "[encoded data removed]",
      "text/plain": [
       "<Figure size 576x576 with 1 Axes>"
      ]
     },
     "metadata": {
      "needs_background": "light"
     },
     "output_type": "display_data"
    }
   ],
   "source": [
    "random_forest = RandomForestClassifier()\n",
    "random_forest.fit(X_train, y_train)\n",
    "plot_feature_importances(random_forest)"
   ]
  },
  {
   "cell_type": "code",
   "execution_count": 22,
   "metadata": {
    "scrolled": true
   },
   "outputs": [
    {
     "data": {
      "text/plain": [
       "<matplotlib.axes._subplots.AxesSubplot at 0x2637244d9e8>"
      ]
     },
     "execution_count": 22,
     "metadata": {},
     "output_type": "execute_result"
    },
    {
     "data": {
      "image/png": "[encoded data removed]",
      "text/plain": [
       "<Figure size 432x288 with 1 Axes>"
      ]
     },
     "metadata": {
      "needs_background": "light"
     },
     "output_type": "display_data"
    }
   ],
   "source": [
    "XGBoost = XGBClassifier()\n",
    "XGBoost.fit(X_train, y_train)\n",
    "plot_importance(XGBoost)"
   ]
  },
  {
   "cell_type": "markdown",
   "metadata": {},
   "source": [
    "- The top 6 features are SHOT_DIST, CLOSE_DEF_DIST, TOUCH_TIME, SHOT_CLOCK, GAME_CLOCK, and SHOT_NUMBER\n",
    "\n",
    "\n",
    "- Let's slice our Features dataframe to reflect this\n",
    "\n",
    "\n",
    "- Now we are ready to make some models!"
   ]
  },
  {
   "cell_type": "code",
   "execution_count": 23,
   "metadata": {},
   "outputs": [],
   "source": [
    "top6 = ['SHOT_DIST', 'CLOSE_DEF_DIST', 'SHOT_CLOCK', 'TOUCH_TIME', 'GAME_CLOCK', 'SHOT_NUMBER']\n",
    "features = features[top6]"
   ]
  },
  {
   "cell_type": "markdown",
   "metadata": {},
   "source": [
    "#### Surprises / Interesting Occurences\n",
    "\n",
    "- All 6 of the most important features I ended keeping in the model were continuous variables.  So none of the categorical variables made the cut\n",
    "\n",
    "\n",
    "- I thought that PTS_TYPE would have had more effect on the target variable.  Afterall, 2 point shots in general are easier to make than 3 point shots.  League averages of each type of shot year to year show this out\n",
    "\n",
    "\n",
    "- I thought LOCATION might have had a bit more effect on the target variable as well.  Overall, teams at home play better than on the road\n",
    "\n",
    "\n",
    "- I thought there might have been a multicollinearity problem between SHOT_CLOCK and GAME_CLOCK but there wasn't one"
   ]
  },
  {
   "cell_type": "markdown",
   "metadata": {},
   "source": [
    "## Modeling"
   ]
  },
  {
   "cell_type": "code",
   "execution_count": 24,
   "metadata": {},
   "outputs": [],
   "source": [
    "# Helper function to print to screen 4 of the most important metrics for classification performance\n",
    "\n",
    "def print_metrics(labels, preds):\n",
    "    print(\"Precision Score: {}\".format(precision_score(labels, preds)))\n",
    "    print(\"Recall Score: {}\".format(recall_score(labels, preds)))\n",
    "    print(\"Accuracy Score: {}\".format(accuracy_score(labels, preds)))\n",
    "    print(\"F1 Score: {}\".format(f1_score(labels, preds)))"
   ]
  },
  {
   "cell_type": "markdown",
   "metadata": {},
   "source": [
    "- I will now make a list to store the accuracy of each model we fit to our data so that in the end we can easily show which performed the best"
   ]
  },
  {
   "cell_type": "code",
   "execution_count": 25,
   "metadata": {},
   "outputs": [],
   "source": [
    "model_performance_list = []"
   ]
  },
  {
   "cell_type": "markdown",
   "metadata": {},
   "source": [
    "### Logistic Regression"
   ]
  },
  {
   "cell_type": "markdown",
   "metadata": {},
   "source": [
    "- Baseline Model"
   ]
  },
  {
   "cell_type": "code",
   "execution_count": 26,
   "metadata": {
    "scrolled": true
   },
   "outputs": [
    {
     "data": {
      "text/plain": [
       "0.603646361821217"
      ]
     },
     "execution_count": 26,
     "metadata": {},
     "output_type": "execute_result"
    }
   ],
   "source": [
    "pipe_lr = Pipeline([('ss', StandardScaler()), \n",
    "                    ('clf', LogisticRegression())])\n",
    "\n",
    "pipe_lr.fit(X_train, y_train)\n",
    "pipe_lr.score(X_test, y_test)"
   ]
  },
  {
   "cell_type": "markdown",
   "metadata": {},
   "source": [
    "- Parameter tuning with GridSearchCV\n",
    "\n",
    "\n",
    "- Parameter Options tested:\n",
    "\n",
    "\n",
    "    - C: .001,.01,.1,1,10\n",
    "    - fit_intercept: True, False\n",
    "    - solver: liblinear, lbfgs\n",
    "    \n",
    "\n",
    "- Best Parameters:\n",
    "\n",
    "\n",
    "    - C: .001\n",
    "    - fit_intercept: True\n",
    "    - solver: lbfgs"
   ]
  },
  {
   "cell_type": "markdown",
   "metadata": {},
   "source": [
    "- Rerun the model, this time with the optimal paramters so we can get a look at more of the metrics for our model\n",
    "\n",
    "\n",
    "- I am treating Accuracy as the most important metric for this simple problem but I would like to have other metrics to compare if multiple models are similarly good and need a tiebreaker"
   ]
  },
  {
   "cell_type": "code",
   "execution_count": 27,
   "metadata": {},
   "outputs": [
    {
     "name": "stdout",
     "output_type": "stream",
     "text": [
      "Precision Score: 0.5893436711143166\n",
      "Recall Score: 0.4655982905982906\n",
      "Accuracy Score: 0.6053157016136951\n",
      "F1 Score: 0.5202132739137355\n"
     ]
    }
   ],
   "source": [
    "pipe_lr = Pipeline([('ss', StandardScaler()), \n",
    "                    ('clf', LogisticRegression(C=.001, fit_intercept=True, solver='lbfgs'))])\n",
    "\n",
    "pipe_lr.fit(X_train, y_train)\n",
    "y_preds1 = pipe_lr.predict(X_test)\n",
    "print_metrics(y_test, y_preds1)\n",
    "\n",
    "# add to performance list\n",
    "model_performance_list.append(('Logit', accuracy_score(y_test, y_preds1)))"
   ]
  },
  {
   "cell_type": "markdown",
   "metadata": {},
   "source": [
    "### K-Nearest Neighbors"
   ]
  },
  {
   "cell_type": "markdown",
   "metadata": {},
   "source": [
    "- Baseline model"
   ]
  },
  {
   "cell_type": "code",
   "execution_count": 28,
   "metadata": {},
   "outputs": [
    {
     "data": {
      "text/plain": [
       "0.5577558836044647"
      ]
     },
     "execution_count": 28,
     "metadata": {},
     "output_type": "execute_result"
    }
   ],
   "source": [
    "pipe_knn = Pipeline([\n",
    "    ('ss', StandardScaler()),\n",
    "    ('clf', KNeighborsClassifier())])\n",
    "\n",
    "pipe_knn.fit(X_train, y_train)\n",
    "pipe_knn.score(X_test, y_test)"
   ]
  },
  {
   "cell_type": "markdown",
   "metadata": {},
   "source": [
    "- Parameter tuning with GridSearhCV\n",
    "\n",
    "\n",
    "- Parameter Options tested:\n",
    "\n",
    "\n",
    "    - n_neighbors: 5,25,50,100\n",
    "    \n",
    "\n",
    "- Best Parameters:\n",
    "\n",
    "\n",
    "    - n_neighbors: 100"
   ]
  },
  {
   "cell_type": "markdown",
   "metadata": {},
   "source": [
    "- Performance of Tuned Model"
   ]
  },
  {
   "cell_type": "code",
   "execution_count": 29,
   "metadata": {},
   "outputs": [
    {
     "name": "stdout",
     "output_type": "stream",
     "text": [
      "Precision Score: 0.6084612680182819\n",
      "Recall Score: 0.3698005698005698\n",
      "Accuracy Score: 0.6010277895977219\n",
      "F1 Score: 0.46001860629956143\n"
     ]
    }
   ],
   "source": [
    "pipe_knn = Pipeline([\n",
    "    ('ss', StandardScaler()),\n",
    "    ('clf', KNeighborsClassifier(n_neighbors=100))])\n",
    "\n",
    "pipe_knn.fit(X_train, y_train)\n",
    "y_preds2 = pipe_knn.predict(X_test)\n",
    "print_metrics(y_test, y_preds2)\n",
    "\n",
    "# add to performance list\n",
    "model_performance_list.append(('KNN', accuracy_score(y_test, y_preds2)))"
   ]
  },
  {
   "cell_type": "markdown",
   "metadata": {},
   "source": [
    "### Decision Tree"
   ]
  },
  {
   "cell_type": "markdown",
   "metadata": {},
   "source": [
    "- Baseline"
   ]
  },
  {
   "cell_type": "code",
   "execution_count": 30,
   "metadata": {},
   "outputs": [
    {
     "data": {
      "text/plain": [
       "0.5395240744983798"
      ]
     },
     "execution_count": 30,
     "metadata": {},
     "output_type": "execute_result"
    }
   ],
   "source": [
    "pipe_dt = Pipeline([\n",
    "    ('ss', StandardScaler()),\n",
    "    ('clf', DecisionTreeClassifier())])\n",
    "\n",
    "pipe_dt.fit(X_train, y_train)\n",
    "pipe_dt.score(X_test, y_test)"
   ]
  },
  {
   "cell_type": "markdown",
   "metadata": {},
   "source": [
    "- Parameter tuning with GridSearchCV\n",
    "\n",
    "\n",
    "- Parameter Options tested:\n",
    "\n",
    "\n",
    "    - criterion: gini, entropy\n",
    "    - max_depth: 1,2,3,5,10\n",
    "    - min_samples_split: 2,5,10\n",
    "    - min_samples_leaf: 1,5,10\n",
    "    \n",
    "\n",
    "- Best Parameters:\n",
    "\n",
    "\n",
    "    - criterion: gini\n",
    "    - max_depth: 5\n",
    "    - min_samples_split: 2\n",
    "    - min_samples_leaf: 1"
   ]
  },
  {
   "cell_type": "markdown",
   "metadata": {},
   "source": [
    "- Performance of Tuned Model"
   ]
  },
  {
   "cell_type": "code",
   "execution_count": 31,
   "metadata": {},
   "outputs": [
    {
     "name": "stdout",
     "output_type": "stream",
     "text": [
      "Precision Score: 0.6565340909090909\n",
      "Recall Score: 0.3292022792022792\n",
      "Accuracy Score: 0.6125822395338941\n",
      "F1 Score: 0.4385199240986717\n"
     ]
    }
   ],
   "source": [
    "pipe_dt = Pipeline([\n",
    "    ('ss', StandardScaler()),\n",
    "    ('clf', DecisionTreeClassifier(criterion='gini', max_depth=5, min_samples_split=2, min_samples_leaf=1))])\n",
    "\n",
    "pipe_dt.fit(X_train, y_train)\n",
    "y_preds3 = pipe_dt.predict(X_test)\n",
    "print_metrics(y_test, y_preds3)\n",
    "\n",
    "# add to performance list\n",
    "model_performance_list.append(('Decision Tree', accuracy_score(y_test, y_preds3)))"
   ]
  },
  {
   "cell_type": "markdown",
   "metadata": {},
   "source": [
    "### Bagged Trees"
   ]
  },
  {
   "cell_type": "markdown",
   "metadata": {},
   "source": [
    "- Baseline"
   ]
  },
  {
   "cell_type": "code",
   "execution_count": 32,
   "metadata": {},
   "outputs": [
    {
     "data": {
      "text/plain": [
       "0.5760204248633433"
      ]
     },
     "execution_count": 32,
     "metadata": {},
     "output_type": "execute_result"
    }
   ],
   "source": [
    "pipe_bt = Pipeline([('ss', StandardScaler()), \n",
    "                    ('clf', BaggingClassifier())])\n",
    "pipe_bt.fit(X_train, y_train)\n",
    "pipe_bt.score(X_test, y_test)"
   ]
  },
  {
   "cell_type": "markdown",
   "metadata": {},
   "source": [
    "- The BaggingClassifier uses a DecisionTreeClassifier as it's default estimator\n",
    "\n",
    "\n",
    "- So since we already tuned the paramters for a Decision Tree, I will just use those here\n",
    "\n",
    "\n",
    "- Will be interesting to see how different the results are from the Decision Tree model we just ran"
   ]
  },
  {
   "cell_type": "code",
   "execution_count": 33,
   "metadata": {},
   "outputs": [
    {
     "name": "stdout",
     "output_type": "stream",
     "text": [
      "Precision Score: 0.6574190836485918\n",
      "Recall Score: 0.33418803418803417\n",
      "Accuracy Score: 0.6139897221040228\n",
      "F1 Score: 0.44312225527695137\n"
     ]
    }
   ],
   "source": [
    "pipe_bt = Pipeline([('ss', StandardScaler()), \n",
    "                    ('clf', BaggingClassifier(DecisionTreeClassifier(criterion='gini',\n",
    "                                                                         max_depth=5,\n",
    "                                                                         min_samples_leaf=1,\n",
    "                                                                         min_samples_split=2)))])\n",
    "pipe_bt.fit(X_train, y_train)\n",
    "y_preds4 = pipe_bt.predict(X_test)\n",
    "print_metrics(y_test, y_preds4)\n",
    "\n",
    "# add to performance list\n",
    "model_performance_list.append(('Bagged Trees', accuracy_score(y_test, y_preds4)))"
   ]
  },
  {
   "cell_type": "markdown",
   "metadata": {},
   "source": [
    "### Random Forest"
   ]
  },
  {
   "cell_type": "markdown",
   "metadata": {},
   "source": [
    "- Baseline"
   ]
  },
  {
   "cell_type": "code",
   "execution_count": 34,
   "metadata": {},
   "outputs": [
    {
     "data": {
      "text/plain": [
       "0.5758567640993748"
      ]
     },
     "execution_count": 34,
     "metadata": {},
     "output_type": "execute_result"
    }
   ],
   "source": [
    "pipe_rf = Pipeline([('ss', StandardScaler()), \n",
    "                    ('clf', RandomForestClassifier())])\n",
    "pipe_rf.fit(X_train, y_train)\n",
    "pipe_rf.score(X_test, y_test)"
   ]
  },
  {
   "cell_type": "markdown",
   "metadata": {},
   "source": [
    "- Parameter tuning with GridSearchCV\n",
    "\n",
    "\n",
    "- Parameter Options tested:\n",
    "\n",
    "\n",
    "    - criterion: gini, entropy\n",
    "    - max_depth: 1,2,3,5,10\n",
    "    - min_samples_split: 2,5,10\n",
    "    - min_samples_leaf: 1,5,10\n",
    "    \n",
    "\n",
    "- Best Parameters:\n",
    "\n",
    "\n",
    "    - criterion: entropy\n",
    "    - max_depth: 10\n",
    "    - min_samples_split: 2\n",
    "    - min_samples_leaf: 5"
   ]
  },
  {
   "cell_type": "markdown",
   "metadata": {},
   "source": [
    "- Performance of Tuned Model"
   ]
  },
  {
   "cell_type": "code",
   "execution_count": 35,
   "metadata": {},
   "outputs": [
    {
     "name": "stdout",
     "output_type": "stream",
     "text": [
      "Precision Score: 0.6445846477392219\n",
      "Recall Score: 0.3492877492877493\n",
      "Accuracy Score: 0.6124513109227194\n",
      "F1 Score: 0.4530672579453067\n"
     ]
    }
   ],
   "source": [
    "pipe_rf = Pipeline([('ss', StandardScaler()), \n",
    "                    ('clf', RandomForestClassifier(criterion='entropy', max_depth=10, min_samples_split=2,\n",
    "                                                  min_samples_leaf=5))])\n",
    "\n",
    "pipe_rf.fit(X_train, y_train)\n",
    "y_preds5 = pipe_rf.predict(X_test)\n",
    "print_metrics(y_test, y_preds5)\n",
    "\n",
    "# add to performance list\n",
    "model_performance_list.append(('Random Forest', accuracy_score(y_test, y_preds5)))"
   ]
  },
  {
   "cell_type": "markdown",
   "metadata": {},
   "source": [
    "### Gradient Boost"
   ]
  },
  {
   "cell_type": "markdown",
   "metadata": {},
   "source": [
    "- Baseline"
   ]
  },
  {
   "cell_type": "code",
   "execution_count": 36,
   "metadata": {},
   "outputs": [
    {
     "data": {
      "text/plain": [
       "0.6156263297437072"
      ]
     },
     "execution_count": 36,
     "metadata": {},
     "output_type": "execute_result"
    }
   ],
   "source": [
    "pipe_gb = Pipeline([('ss', StandardScaler()), \n",
    "                    ('clf', GradientBoostingClassifier())])\n",
    "pipe_gb.fit(X_train, y_train)\n",
    "pipe_gb.score(X_test, y_test)"
   ]
  },
  {
   "cell_type": "markdown",
   "metadata": {},
   "source": [
    "- Parameter tuning with GridSearchCV\n",
    "\n",
    "\n",
    "- Parameter Options tested:\n",
    "\n",
    "\n",
    "    - learning_rate: .01,.1,1\n",
    "    - n_estimators: 5,50,100\n",
    "    - max_depth: 1,2,5\n",
    "    \n",
    "\n",
    "- Best Parameters:\n",
    "\n",
    "\n",
    "    - learning_rate: .1\n",
    "    - n_estimators: 100\n",
    "    - max_depth: 2\n",
    "    \n",
    "    \n",
    "- Performance of Tuned Model"
   ]
  },
  {
   "cell_type": "code",
   "execution_count": 37,
   "metadata": {},
   "outputs": [
    {
     "name": "stdout",
     "output_type": "stream",
     "text": [
      "Precision Score: 0.6501054296257248\n",
      "Recall Score: 0.35135327635327634\n",
      "Accuracy Score: 0.6150044188406272\n",
      "F1 Score: 0.4561679304605141\n"
     ]
    }
   ],
   "source": [
    "pipe_gb = Pipeline([('ss', StandardScaler()), \n",
    "                    ('clf', GradientBoostingClassifier(learning_rate=.1, n_estimators=100, max_depth=2))])\n",
    "\n",
    "pipe_gb.fit(X_train, y_train)\n",
    "y_preds6 = pipe_gb.predict(X_test)\n",
    "print_metrics(y_test, y_preds6)\n",
    "\n",
    "# add to performance list\n",
    "model_performance_list.append(('Gradient Boost', accuracy_score(y_test, y_preds6)))"
   ]
  },
  {
   "cell_type": "markdown",
   "metadata": {},
   "source": [
    "### AdaBoost"
   ]
  },
  {
   "cell_type": "markdown",
   "metadata": {},
   "source": [
    "- Baseline"
   ]
  },
  {
   "cell_type": "code",
   "execution_count": 38,
   "metadata": {},
   "outputs": [
    {
     "data": {
      "text/plain": [
       "0.6073450950869038"
      ]
     },
     "execution_count": 38,
     "metadata": {},
     "output_type": "execute_result"
    }
   ],
   "source": [
    "pipe_ab = Pipeline([('ss', StandardScaler()), \n",
    "                    ('clf', AdaBoostClassifier())])\n",
    "pipe_ab.fit(X_train, y_train)\n",
    "pipe_ab.score(X_test, y_test)"
   ]
  },
  {
   "cell_type": "markdown",
   "metadata": {},
   "source": [
    "- Parameter tuning with GridSearchCV\n",
    "\n",
    "\n",
    "- Parameter Options tested:\n",
    "\n",
    "\n",
    "    - learning_rate: .01,.1,1\n",
    "    - n_estimators: 5,50,100\n",
    "    \n",
    "\n",
    "- Best Parameters:\n",
    "\n",
    "\n",
    "    - learning_rate: .1\n",
    "    - n_estimators: 100\n",
    "    \n",
    "    \n",
    "- Performance of Tuned Model"
   ]
  },
  {
   "cell_type": "code",
   "execution_count": 39,
   "metadata": {},
   "outputs": [
    {
     "name": "stdout",
     "output_type": "stream",
     "text": [
      "Precision Score: 0.6216864716636198\n",
      "Recall Score: 0.38753561253561253\n",
      "Accuracy Score: 0.6101600602271612\n",
      "F1 Score: 0.47744822744822746\n"
     ]
    }
   ],
   "source": [
    "pipe_ab = Pipeline([('ss', StandardScaler()), \n",
    "                    ('clf', AdaBoostClassifier(learning_rate=.1, n_estimators=100))])\n",
    "\n",
    "pipe_ab.fit(X_train, y_train)\n",
    "y_preds7 = pipe_ab.predict(X_test)\n",
    "print_metrics(y_test, y_preds7)\n",
    "\n",
    "# add to performance list\n",
    "model_performance_list.append(('AdaBoost', accuracy_score(y_test, y_preds7)))"
   ]
  },
  {
   "cell_type": "markdown",
   "metadata": {},
   "source": [
    "### XGBoost"
   ]
  },
  {
   "cell_type": "markdown",
   "metadata": {},
   "source": [
    "- Baseline"
   ]
  },
  {
   "cell_type": "code",
   "execution_count": 40,
   "metadata": {},
   "outputs": [
    {
     "data": {
      "text/plain": [
       "0.6155281332853262"
      ]
     },
     "execution_count": 40,
     "metadata": {},
     "output_type": "execute_result"
    }
   ],
   "source": [
    "pipe_xgb = Pipeline([('ss', StandardScaler()), \n",
    "                    ('clf', XGBClassifier())])\n",
    "pipe_xgb.fit(X_train, y_train)\n",
    "pipe_xgb.score(X_test, y_test)"
   ]
  },
  {
   "cell_type": "markdown",
   "metadata": {},
   "source": [
    "- Parameter tuning with GridSearchCV\n",
    "\n",
    "\n",
    "- Parameter Options tested:\n",
    "\n",
    "\n",
    "    - learning_rate: .01,.1,1\n",
    "    - n_estimators: 5,50,100\n",
    "    - max_depth: 1,2,4\n",
    "    \n",
    "\n",
    "- Best Parameters:\n",
    "\n",
    "\n",
    "    - learning_rate: .1\n",
    "    - n_estimators: 50\n",
    "    - max_depth: 4\n",
    "    \n",
    "    \n",
    "- Performance of Tuned Model"
   ]
  },
  {
   "cell_type": "code",
   "execution_count": 41,
   "metadata": {},
   "outputs": [
    {
     "name": "stdout",
     "output_type": "stream",
     "text": [
      "Precision Score: 0.6598094712135856\n",
      "Recall Score: 0.3403846153846154\n",
      "Accuracy Score: 0.6162155084939936\n",
      "F1 Score: 0.4490908236620777\n"
     ]
    }
   ],
   "source": [
    "pipe_xgb = Pipeline([('ss', StandardScaler()), \n",
    "                    ('clf', XGBClassifier(learning_rate=.1, n_estimators=50, max_depth=4))])\n",
    "\n",
    "pipe_xgb.fit(X_train, y_train)\n",
    "y_preds8 = pipe_xgb.predict(X_test)\n",
    "print_metrics(y_test, y_preds8)\n",
    "\n",
    "# add to performance list\n",
    "model_performance_list.append(('XGBoost', accuracy_score(y_test, y_preds8)))"
   ]
  },
  {
   "cell_type": "markdown",
   "metadata": {},
   "source": [
    "### Support Vector Machines"
   ]
  },
  {
   "cell_type": "markdown",
   "metadata": {},
   "source": [
    "- Baseline"
   ]
  },
  {
   "cell_type": "code",
   "execution_count": 42,
   "metadata": {},
   "outputs": [],
   "source": [
    "# takes a long time to run so I have added the score I got after successfully running the code once to the performance list\n",
    "# manually\n",
    "\n",
    "# pipe_svm = Pipeline([('ss', StandardScaler()), \n",
    "#                     ('clf', SVC())])\n",
    "# pipe_svm.fit(X_train, y_train)\n",
    "# pipe_svm.score(X_test, y_test)"
   ]
  },
  {
   "cell_type": "code",
   "execution_count": 43,
   "metadata": {},
   "outputs": [],
   "source": [
    "# add to performance list\n",
    "model_performance_list.append(('SVM', .6126))"
   ]
  },
  {
   "cell_type": "markdown",
   "metadata": {},
   "source": [
    "- SVMs were the last algorithm I investigated for my data\n",
    "\n",
    "\n",
    "- The runtime was long just for the baseline model so I was not able to execute a grid search to explore other parameters for this algorithm due to what would have been extremely long runtimes\n",
    "\n",
    "\n",
    "- So the baseline SVM was what I used as my final model for this algorithm"
   ]
  },
  {
   "cell_type": "markdown",
   "metadata": {},
   "source": [
    "## Model Comparison  / Which One Performed Best?"
   ]
  },
  {
   "cell_type": "code",
   "execution_count": 45,
   "metadata": {},
   "outputs": [
    {
     "data": {
      "image/png": "[encoded data removed]",
      "text/plain": [
       "<Figure size 936x648 with 1 Axes>"
      ]
     },
     "metadata": {
      "needs_background": "light"
     },
     "output_type": "display_data"
    }
   ],
   "source": [
    "performances = sorted(model_performance_list, key=lambda x: x[1], reverse=True)\n",
    "x,y = zip(*performances)\n",
    "\n",
    "plt.figure(figsize=(13,9))\n",
    "plt.bar(x, y, color=['Orange', 'Blue', 'Red', 'Green', 'Tan', 'Gray', 'Black', 'Teal', 'Maroon'])\n",
    "plt.ylim([.6, .6175])\n",
    "plt.yticks(color='black', size='x-large', weight='bold')\n",
    "plt.xticks(color='black')\n",
    "plt.title(\"Model Performance (Accuracy Score)\", color='black', size='x-large', weight='bold')\n",
    "plt.tight_layout()"
   ]
  },
  {
   "cell_type": "markdown",
   "metadata": {},
   "source": [
    "## XGBoost wins!"
   ]
  },
  {
   "cell_type": "markdown",
   "metadata": {},
   "source": [
    "- The ensemble method XGBoost had the best accuracy score of all the algorithms we tested\n",
    "\n",
    "\n",
    "- There was not a lot of difference between the best performing algorithms, only a few hundredths of a percent\n",
    "\n",
    "\n",
    "- K Nearest Neighbors was by far the worst performing model, Logistic Regression the 2nd worst"
   ]
  },
  {
   "cell_type": "markdown",
   "metadata": {},
   "source": [
    "## What It All Means"
   ]
  },
  {
   "cell_type": "markdown",
   "metadata": {},
   "source": [
    "- The breakdown of makes to misses in the NBA that year was approximately 46% to 54%, respectively.  So we know that even if we guessed that all shots were missed we would still predict 54% of the results correctly.  So when looking at the performance from the models we tested, we needed to see accuracy greater than 54% to know we were doing any better than random chance\n",
    "\n",
    "\n",
    "- Our winning model (XGBoost) had an accuracy of 61.6%.  This doesn't seem like a great number.  Only about an 8% improvement on random guessing.  \n",
    "\n",
    "\n",
    "- But you have to remember that we are predicting something that in itself is highly variable.  Outside of dunks and layups, wide-open shots for the very best shooters are still not even close to guaranteed to go in.  \n",
    "\n",
    "\n",
    "- So having an accuracy of prediction this low even for our best performing model is not all that surprising"
   ]
  },
  {
   "cell_type": "markdown",
   "metadata": {},
   "source": [
    "## Improvements"
   ]
  },
  {
   "cell_type": "markdown",
   "metadata": {},
   "source": [
    "### Model"
   ]
  },
  {
   "cell_type": "markdown",
   "metadata": {},
   "source": [
    "- With more time and/or computing power, we could try to tune more parameters for each model hoping to find small improvements  \n",
    "\n",
    "- I would also have liked to explore further the different kernel options of Support Vector Machines "
   ]
  },
  {
   "cell_type": "markdown",
   "metadata": {},
   "source": [
    "### Data"
   ]
  },
  {
   "cell_type": "markdown",
   "metadata": {},
   "source": [
    "- New data / features that I think could help give better predictions:\n",
    "\n",
    "\n",
    "    - last year's defensive field goal pct. of closest defender\n",
    "    - last year's field goal pct. of the type of shot taken (2 or 3) from that same player\n",
    "    - what % of your total shots attemted (so far that season, or overall from last year) is the shot you are about to take?"
   ]
  }
 ],
 "metadata": {
  "kernelspec": {
   "display_name": "learn-env",
   "language": "python",
   "name": "learn-env"
  },
  "language_info": {
   "codemirror_mode": {
    "name": "ipython",
    "version": 3
   },
   "file_extension": ".py",
   "mimetype": "text/x-python",
   "name": "python",
   "nbconvert_exporter": "python",
   "pygments_lexer": "ipython3",
   "version": "3.6.9"
  }
 },
 "nbformat": 4,
 "nbformat_minor": 2
}
